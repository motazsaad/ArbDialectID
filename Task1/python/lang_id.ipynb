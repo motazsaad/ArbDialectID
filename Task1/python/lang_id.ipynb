{
 "cells": [
  {
   "cell_type": "code",
   "execution_count": 88,
   "metadata": {},
   "outputs": [],
   "source": [
    "import os\n",
    "import random\n",
    "import numpy as np\n",
    "import tensorflow as tf\n",
    "import time\n",
    "\n",
    "from sklearn import preprocessing\n",
    "from sklearn.metrics import classification_report\n",
    "from sklearn.model_selection import train_test_split\n",
    "\n",
    "import keras\n",
    "from keras.models import Sequential\n",
    "from keras.layers import Dense\n",
    "from keras.layers import Dropout\n",
    "import keras.optimizers"
   ]
  },
  {
   "cell_type": "code",
   "execution_count": 89,
   "metadata": {},
   "outputs": [],
   "source": [
    "# Hyperparams if GPU is available\n",
    "if tf.test.is_gpu_available():\n",
    "    # GPU\n",
    "    BATCH_SIZE = 512  # Number of images used in each iteration\n",
    "    EPOCHS = 12  # Number of passes through entire dataset\n",
    "    \n",
    "# Hyperparams for CPU training\n",
    "else:\n",
    "    # CPU\n",
    "    BATCH_SIZE = 64\n",
    "    EPOCHS = 12\n"
   ]
  },
  {
   "cell_type": "code",
   "execution_count": 90,
   "metadata": {},
   "outputs": [
    {
     "name": "stdout",
     "output_type": "stream",
     "text": [
      "ALPHABET:\n",
      "ءآأؤإئابةتثجحخدذرزسشصضطظعغفقكلمنهوىي ؟!?¿¡\n",
      "ALPHABET LEN(VOCAB SIZE): 42\n"
     ]
    }
   ],
   "source": [
    "#################\n",
    "# Configuration #\n",
    "#################\n",
    "\n",
    "# dictionary of languages that our classifier will cover\n",
    "LANGUAGES_DICT = {'BEI':0,'MSA':1,'CAI':2,'DOH':3,'RAB':4,'TUN':5}\n",
    "\n",
    "# Length of cleaned text used for training and prediction - 140 chars\n",
    "MAX_LEN = 250\n",
    "\n",
    "# number of language samples per language that we will extract from source files\n",
    "NUM_SAMPLES = 9000\n",
    "\n",
    "# For reproducibility\n",
    "SEED = 42\n",
    "\n",
    "import support #import define_alphabet\n",
    "# Load the Alphabet\n",
    "alphabet = support.define_alphabet()\n",
    "print('ALPHABET:')\n",
    "print(alphabet[1])\n",
    "\n",
    "VOCAB_SIZE = len(alphabet[1])\n",
    "print('ALPHABET LEN(VOCAB SIZE):', VOCAB_SIZE)\n",
    "\n",
    "# Folders from where load / store the raw, source, cleaned, samples and train_test data\n",
    "data_directory = \"../data/Dialect6\"\n",
    "source_directory = os.path.join(data_directory, 'source')\n",
    "cleaned_directory = os.path.join(data_directory, 'cleaned')\n",
    "samples_directory = os.path.join('/tmp', 'samples')\n",
    "cleaned_directory_test =os.path.join(data_directory, 'cleaned_test')\n",
    "train_test_directory = os.path.join('/tmp', 'train_test')"
   ]
  },
  {
   "cell_type": "code",
   "execution_count": 91,
   "metadata": {},
   "outputs": [
    {
     "name": "stdout",
     "output_type": "stream",
     "text": [
      "1. SAMPLE TEXT: \n",
      " اي بريد لالي ؟\n",
      " بدي إسحب أربعمية دولار من حسابي\n",
      " عندك منبه للسفر ؟\n",
      " لا بس فيك تدق عهالرقم للمساعدة اليابانية الف و تمنمية\n",
      " وين اقرب خياط ؟\n",
      " مرحبا هيدي الأوضة تلاتة صفر خمسة\n",
      " رح فل بكير بكرا الصبح\n",
      " مليان لاء يسلمو\n",
      " إذا بتريد فرجيني كفوف\n",
      " هيدا الباقي\n",
      "\n",
      "2. REFERENCE ALPHABET: \n",
      " ['ء', 'آ', 'أ', 'ؤ', 'إ', 'ئ', 'ا', 'ب', 'ة', 'ت', 'ث', 'ج', 'ح', 'خ', 'د', 'ذ', 'ر', 'ز', 'س', 'ش', 'ص', 'ض', 'ط', 'ظ', 'ع', 'غ', 'ف', 'ق', 'ك', 'ل', 'م', 'ن', 'ه', 'و', 'ى', 'ي', ' ', '؟', '!', '?', '¿', '¡']\n",
      "\n",
      "3. SAMPLE INPUT ROW: \n",
      " [1, 0, 2, 0, 2, 0, 24, 15, 7, 5, 0, 1, 5, 2, 9, 1, 13, 0, 7, 0, 2, 1, 1, 0, 4, 0, 8, 4, 5, 19, 11, 8, 4, 6, 0, 22, 47, 3, 0, 0, 0, 0]\n",
      "\n",
      "4. INPUT SIZE (VOCAB SIZE):  42\n"
     ]
    }
   ],
   "source": [
    "from support import get_sample_text, get_input_row\n",
    "    \n",
    "# let's see if our processing is returning counts\n",
    "# last part calculates also input_size for DNN so this code must be run before DNN is trained\n",
    "path = os.path.join(cleaned_directory, \"BEI_clean.txt\")\n",
    "with open(path, 'r') as f:\n",
    "    content = f.read()\n",
    "    random_index = random.randrange(0,len(content)-2*MAX_LEN)\n",
    "    sample_text = get_sample_text(content,random_index,MAX_LEN)\n",
    "    print (\"1. SAMPLE TEXT: \\n\", sample_text)\n",
    "    print (\"\\n2. REFERENCE ALPHABET: \\n\", alphabet[0])\n",
    "    \n",
    "    sample_input_row = get_input_row(content, random_index, MAX_LEN, alphabet)\n",
    "    print (\"\\n3. SAMPLE INPUT ROW: \\n\",sample_input_row)\n",
    "    \n",
    "    input_size = len(sample_input_row)\n",
    "    if input_size != VOCAB_SIZE:\n",
    "        print(\"Something strange happened!\")\n",
    "        \n",
    "    print (\"\\n4. INPUT SIZE (VOCAB SIZE): \", input_size)\n",
    "    del content"
   ]
  },
  {
   "cell_type": "code",
   "execution_count": 92,
   "metadata": {},
   "outputs": [
    {
     "name": "stdout",
     "output_type": "stream",
     "text": [
      "Processing file : ../data/Dialect6/cleaned/BEI_clean.txt\n",
      "267225\n",
      "File size :  0.27 MB  | # possible samples :  6362 | # skip chars : -165\n",
      "----------------------------------------------------------------------------------------------------\n",
      "Processing file : ../data/Dialect6/cleaned/MSA_clean.txt\n",
      "322546\n",
      "File size :  0.32 MB  | # possible samples :  7679 | # skip chars : -160\n",
      "----------------------------------------------------------------------------------------------------\n",
      "Processing file : ../data/Dialect6/cleaned/CAI_clean.txt\n",
      "288771\n",
      "File size :  0.29 MB  | # possible samples :  6875 | # skip chars : -163\n",
      "----------------------------------------------------------------------------------------------------\n",
      "Processing file : ../data/Dialect6/cleaned/DOH_clean.txt\n",
      "263868\n",
      "File size :  0.26 MB  | # possible samples :  6282 | # skip chars : -165\n",
      "----------------------------------------------------------------------------------------------------\n",
      "Processing file : ../data/Dialect6/cleaned/RAB_clean.txt\n",
      "309464\n",
      "File size :  0.31 MB  | # possible samples :  7368 | # skip chars : -161\n",
      "----------------------------------------------------------------------------------------------------\n",
      "Processing file : ../data/Dialect6/cleaned/TUN_clean.txt\n",
      "276387\n",
      "File size :  0.28 MB  | # possible samples :  6580 | # skip chars : -164\n",
      "----------------------------------------------------------------------------------------------------\n",
      "Vocab Size :  42\n",
      "----------------------------------------------------------------------------------------------------\n",
      "Samples array size :  (54000, 43)\n",
      "/tmp/samples/lang_samples_42.npz size :  0.60 MB\n"
     ]
    }
   ],
   "source": [
    "# Utility function to return file Bytes size in MB\n",
    "def size_mb(size):\n",
    "    size_mb =  '{:.2f}'.format(size/(1000*1000.0))\n",
    "    return size_mb + \" MB\"\n",
    "\n",
    "# Now we have preprocessing utility functions ready. Let's use them to process each cleaned language file\n",
    "# and turn text data into numerical data samples for our neural network\n",
    "# prepare numpy array\n",
    "sample_data = np.empty((NUM_SAMPLES*len(LANGUAGES_DICT),input_size+1),dtype = np.uint16)\n",
    "lang_seq = 0 # offset for each language data\n",
    "jump_reduce = 0.2 # part of characters removed from jump to avoid passing the end of file\n",
    "\n",
    "for lang_code in LANGUAGES_DICT:\n",
    "    start_index = 0\n",
    "    path = os.path.join(cleaned_directory, lang_code+\"_clean.txt\")\n",
    "    with open(path, 'r') as f:\n",
    "        print (\"Processing file : \" + path)\n",
    "        file_content = f.read()\n",
    "        content_length = len(file_content)\n",
    "        print(content_length)\n",
    "        remaining = content_length - MAX_LEN*NUM_SAMPLES\n",
    "        jump = int(((remaining/NUM_SAMPLES)*3)/4)\n",
    "        print (\"File size : \",size_mb(content_length),\\\n",
    "               \" | # possible samples : \",int(content_length/VOCAB_SIZE),\\\n",
    "              \"| # skip chars : \" + str(jump))\n",
    "        for idx in range(NUM_SAMPLES):\n",
    "            if (content_length-start_index < 300):\n",
    "                break\n",
    "            input_row = get_input_row(file_content, start_index, MAX_LEN, alphabet)\n",
    "            #print(idx,' ',start_index,' ',MAX_LEN)\n",
    "            sample_data[NUM_SAMPLES*lang_seq+idx,] = input_row + [LANGUAGES_DICT[lang_code]]\n",
    "            start_index += MAX_LEN + jump\n",
    "        del file_content\n",
    "    lang_seq += 1\n",
    "    print (100*\"-\")\n",
    "     \n",
    "# Let's randomy shuffle the data\n",
    "np.random.shuffle(sample_data)\n",
    "# reference input size\n",
    "print (\"Vocab Size : \",VOCAB_SIZE )\n",
    "print (100*\"-\")\n",
    "print (\"Samples array size : \",sample_data.shape )\n",
    "\n",
    "# Create the the sample dirctory if not exists\n",
    "if not os.path.exists(samples_directory):\n",
    "    os.makedirs(samples_directory)\n",
    "\n",
    "# Save compressed sample data to disk\n",
    "path_smpl = os.path.join(samples_directory,\"lang_samples_\"+str(VOCAB_SIZE)+\".npz\")\n",
    "np.savez_compressed(path_smpl,data=sample_data)\n",
    "print(path_smpl, \"size : \", size_mb(os.path.getsize(path_smpl)))\n",
    "del sample_data"
   ]
  },
  {
   "cell_type": "code",
   "execution_count": 93,
   "metadata": {},
   "outputs": [
    {
     "name": "stdout",
     "output_type": "stream",
     "text": [
      "Sample record : \n",
      " [0 0 0 0 0 0 0 0 0 0 0 0 0 0 0 0 0 0 0 0 0 0 0 0 0 0 0 0 0 0 0 0 0 0 0 0 0\n",
      " 0 0 0 0 0 0]\n",
      "\n",
      "Sample language :  BEI\n",
      "\n",
      "Dataset shape (Total_samples, Alphabet): (54000, 43)\n",
      "Language bins count (samples per language): \n",
      "BEI 37317\n",
      "MSA 3581\n",
      "CAI 3316\n",
      "DOH 3101\n",
      "RAB 3474\n",
      "TUN 3211\n"
     ]
    }
   ],
   "source": [
    "# utility function to turn language id into language code\n",
    "def decode_langid(langid):    \n",
    "    for dname, did in LANGUAGES_DICT.items():\n",
    "        if did == langid:\n",
    "            return dname\n",
    "\n",
    "# Loading the data\n",
    "path_smpl = os.path.join(samples_directory,\"lang_samples_\"+str(VOCAB_SIZE)+\".npz\")\n",
    "dt = np.load(path_smpl)['data']\n",
    "\n",
    "# Sanity chech on a random sample\n",
    "random_index = random.randrange(0,dt.shape[0])\n",
    "print (\"Sample record : \\n\",dt[random_index,])\n",
    "print (\"\\nSample language : \",decode_langid(dt[random_index,][VOCAB_SIZE]))\n",
    "\n",
    "# Check if the data have equal share of different languages\n",
    "print (\"\\nDataset shape (Total_samples, Alphabet):\", dt.shape)\n",
    "bins = np.bincount(dt[:,input_size])\n",
    "\n",
    "print (\"Language bins count (samples per language): \") \n",
    "for lang_code in LANGUAGES_DICT: \n",
    "    print (lang_code, bins[LANGUAGES_DICT[lang_code]])"
   ]
  },
  {
   "cell_type": "code",
   "execution_count": 94,
   "metadata": {},
   "outputs": [
    {
     "name": "stdout",
     "output_type": "stream",
     "text": [
      "{0.0, 1.0, 2.0, 3.0, 4.0, 5.0}\n",
      "Example data before processing:\n",
      "X : \n",
      " [0. 0. 0. 0. 0. 0. 0. 0. 0. 0. 0. 0. 0. 0. 0. 0. 0. 0. 0. 0. 0. 0. 0. 0.\n",
      " 0. 0. 0. 0. 0. 0. 0. 0. 0. 0. 0. 0. 0. 0. 0. 0. 0. 0.]\n",
      "Y : \n",
      " 0.0\n",
      "X preprocessed shape : (54000, 42)\n",
      "\n",
      "Example data after processing:\n",
      "X : \n",
      " [-0.24221979 -0.24860772 -0.48550162 -0.12504515 -0.4181301  -0.26915985\n",
      " -0.7341229  -0.67903733 -0.6517166  -0.7018764  -0.29948145 -0.5942327\n",
      " -0.64835864 -0.57450163 -0.6722118  -0.4332265  -0.70607066 -0.5156877\n",
      " -0.6497483  -0.60545516 -0.5497367  -0.45817655 -0.57991594 -0.2493815\n",
      " -0.6792949  -0.47389525 -0.6678122  -0.620151   -0.68789846 -0.7287956\n",
      " -0.71236247 -0.71702695 -0.6351807  -0.6997902  -0.44042534 -0.731145\n",
      " -0.7598836  -0.6556906   0.          0.          0.          0.        ]\n",
      "Y : \n",
      " [1. 0. 0. 0. 0. 0.]\n",
      "/tmp/train_test/train_test_data_42.npz size :  0.97 MB\n"
     ]
    }
   ],
   "source": [
    "# we need to preprocess data for DNN yet again - scale it \n",
    "# scaling will ensure that our optimization algorithm (variation of gradient descent) will converge well\n",
    "# we need also ensure one-hot econding of target classes for softmax output layer\n",
    "# let's convert datatype before processing to float\n",
    "dt = dt.astype(np.float32)\n",
    "# X and Y split\n",
    "X = dt[:, 0:input_size] # Samples\n",
    "Y = dt[:, input_size] # The last element is the label\n",
    "print(set(Y))\n",
    "del dt\n",
    "\n",
    "# Random index to check random sample\n",
    "random_index = random.randrange(0,X.shape[0])\n",
    "print(\"Example data before processing:\")\n",
    "print(\"X : \\n\", X[random_index,])\n",
    "print(\"Y : \\n\", Y[random_index])\n",
    "\n",
    "# X PREPROCESSING\n",
    "# Feature Standardization - Standar scaler will be useful later during DNN prediction\n",
    "standard_scaler = preprocessing.StandardScaler().fit(X)\n",
    "X = standard_scaler.transform(X)   \n",
    "print (\"X preprocessed shape :\", X.shape)\n",
    "\n",
    "# Y PREPROCESSINGY \n",
    "# One-hot encoding\n",
    "Y = keras.utils.to_categorical(Y, num_classes=len(LANGUAGES_DICT))\n",
    "\n",
    "# See the sample data\n",
    "print(\"\\nExample data after processing:\")\n",
    "print(\"X : \\n\", X[random_index,])\n",
    "print(\"Y : \\n\", Y[random_index])\n",
    "\n",
    "# Train/test split. Static seed to have comparable results for different runs\n",
    "X_train, X_test, Y_train, Y_test = train_test_split(X, Y, test_size=0.20, random_state=SEED)\n",
    "del X, Y\n",
    "\n",
    "# Create the train / test directory if not extists\n",
    "if not os.path.exists(train_test_directory):\n",
    "    os.makedirs(train_test_directory)\n",
    "\n",
    "# Save compressed train_test data to disk\n",
    "path_tt = os.path.join(train_test_directory,\"train_test_data_\"+str(VOCAB_SIZE)+\".npz\")\n",
    "np.savez_compressed(path_tt,X_train=X_train,Y_train=Y_train,X_test=X_test,Y_test=Y_test)\n",
    "print(path_tt, \"size : \",size_mb(os.path.getsize(path_tt)))\n",
    "del X_train,Y_train,X_test,Y_test\n"
   ]
  },
  {
   "cell_type": "code",
   "execution_count": 80,
   "metadata": {},
   "outputs": [
    {
     "name": "stdout",
     "output_type": "stream",
     "text": [
      "X_train:  (43200, 42)\n",
      "Y_train:  (43200, 6)\n",
      "X_test:  (10800, 42)\n",
      "Y_test:  (10800, 6)\n"
     ]
    }
   ],
   "source": [
    "\n",
    "# Load train data first from file\n",
    "path_tt = os.path.join(train_test_directory, \"train_test_data_\"+str(VOCAB_SIZE)+\".npz\")\n",
    "train_test_data = np.load(path_tt)\n",
    "\n",
    "# Train Set\n",
    "X_train = train_test_data['X_train']\n",
    "print (\"X_train: \",X_train.shape)\n",
    "Y_train = train_test_data['Y_train']\n",
    "print (\"Y_train: \",Y_train.shape)\n",
    "\n",
    "# Test Set\n",
    "X_test = train_test_data['X_test']\n",
    "print (\"X_test: \",X_test.shape)\n",
    "Y_test = train_test_data['Y_test']\n",
    "print (\"Y_test: \",Y_test.shape)\n",
    "\n",
    "del train_test_data"
   ]
  },
  {
   "cell_type": "code",
   "execution_count": 81,
   "metadata": {},
   "outputs": [
    {
     "name": "stdout",
     "output_type": "stream",
     "text": [
      "_________________________________________________________________\n",
      "Layer (type)                 Output Shape              Param #   \n",
      "=================================================================\n",
      "dense_13 (Dense)             (None, 500)               21500     \n",
      "_________________________________________________________________\n",
      "dropout_10 (Dropout)         (None, 500)               0         \n",
      "_________________________________________________________________\n",
      "dense_14 (Dense)             (None, 300)               150300    \n",
      "_________________________________________________________________\n",
      "dropout_11 (Dropout)         (None, 300)               0         \n",
      "_________________________________________________________________\n",
      "dense_15 (Dense)             (None, 100)               30100     \n",
      "_________________________________________________________________\n",
      "dropout_12 (Dropout)         (None, 100)               0         \n",
      "_________________________________________________________________\n",
      "dense_16 (Dense)             (None, 6)                 606       \n",
      "=================================================================\n",
      "Total params: 202,506\n",
      "Trainable params: 202,506\n",
      "Non-trainable params: 0\n",
      "_________________________________________________________________\n"
     ]
    }
   ],
   "source": [
    "\n",
    "model = Sequential()\n",
    "# Note: glorot_uniform is the Xavier uniform initializer.\n",
    "\n",
    "model.add(Dense(500,input_dim=input_size, kernel_initializer=\"glorot_uniform\", activation=\"sigmoid\"))\n",
    "model.add(Dropout(0.5))\n",
    "model.add(Dense(300, kernel_initializer=\"glorot_uniform\", activation=\"sigmoid\"))\n",
    "model.add(Dropout(0.5))\n",
    "model.add(Dense(100, kernel_initializer=\"glorot_uniform\", activation=\"sigmoid\"))\n",
    "model.add(Dropout(0.5))\n",
    "model.add(Dense(len(LANGUAGES_DICT), kernel_initializer=\"glorot_uniform\", activation=\"softmax\"))\n",
    "model_optimizer = keras.optimizers.Adam(lr=0.001, beta_1=0.9, beta_2=0.999, epsilon=1e-08, decay=0.0)\n",
    "model.compile(loss='categorical_crossentropy',\n",
    "              optimizer=model_optimizer,\n",
    "              metrics=['accuracy'])\n",
    "\n",
    "model.summary()"
   ]
  },
  {
   "cell_type": "code",
   "execution_count": 82,
   "metadata": {},
   "outputs": [
    {
     "name": "stdout",
     "output_type": "stream",
     "text": [
      "Train on 38880 samples, validate on 4320 samples\n",
      "Epoch 1/12\n",
      " - 3s - loss: 0.5558 - acc: 0.7899 - val_loss: 0.2367 - val_acc: 0.9178\n",
      "Epoch 2/12\n",
      " - 3s - loss: 0.2217 - acc: 0.9229 - val_loss: 0.1321 - val_acc: 0.9544\n",
      "Epoch 3/12\n",
      " - 3s - loss: 0.1692 - acc: 0.9421 - val_loss: 0.1243 - val_acc: 0.9558\n",
      "Epoch 4/12\n",
      " - 3s - loss: 0.1546 - acc: 0.9486 - val_loss: 0.1188 - val_acc: 0.9590\n",
      "Epoch 5/12\n",
      " - 3s - loss: 0.1391 - acc: 0.9543 - val_loss: 0.1097 - val_acc: 0.9611\n",
      "Epoch 6/12\n",
      " - 3s - loss: 0.1350 - acc: 0.9550 - val_loss: 0.1098 - val_acc: 0.9630\n",
      "Epoch 7/12\n",
      " - 3s - loss: 0.1306 - acc: 0.9562 - val_loss: 0.1074 - val_acc: 0.9618\n",
      "Epoch 8/12\n",
      " - 3s - loss: 0.1287 - acc: 0.9558 - val_loss: 0.1087 - val_acc: 0.9604\n",
      "Epoch 9/12\n",
      " - 3s - loss: 0.1278 - acc: 0.9564 - val_loss: 0.1034 - val_acc: 0.9637\n",
      "Epoch 10/12\n",
      " - 3s - loss: 0.1244 - acc: 0.9574 - val_loss: 0.1032 - val_acc: 0.9630\n",
      "Epoch 11/12\n",
      " - 3s - loss: 0.1215 - acc: 0.9582 - val_loss: 0.1026 - val_acc: 0.9625\n",
      "Epoch 12/12\n",
      " - 3s - loss: 0.1203 - acc: 0.9591 - val_loss: 0.1026 - val_acc: 0.9620\n"
     ]
    }
   ],
   "source": [
    "from keras.callbacks import TensorBoard\n",
    "\n",
    "# Tensorboard\n",
    "tensorboard = TensorBoard(log_dir=\"run\")\n",
    "\n",
    "# let's fit the data\n",
    "# history variable will help us to plot results later\n",
    "history = model.fit(X_train,Y_train,\n",
    "                  epochs=EPOCHS,\n",
    "                  validation_split=0.1,\n",
    "                  batch_size=BATCH_SIZE,\n",
    "                  callbacks=[tensorboard],\n",
    "                  shuffle=True,\n",
    "                  verbose=2)"
   ]
  },
  {
   "cell_type": "code",
   "execution_count": 83,
   "metadata": {},
   "outputs": [
    {
     "name": "stdout",
     "output_type": "stream",
     "text": [
      "10800/10800 [==============================] - 0s 45us/step\n",
      "acc: 96.06%\n"
     ]
    }
   ],
   "source": [
    "scores = model.evaluate(X_test, Y_test, verbose=1)\n",
    "print(\"%s: %.2f%%\" % (model.metrics_names[1], scores[1]*100))"
   ]
  },
  {
   "cell_type": "code",
   "execution_count": 84,
   "metadata": {},
   "outputs": [],
   "source": [
    "\n",
    "# and now we will prepare data for scikit-learn confusion matrix and classification report\n",
    "Y_pred = model.predict_classes(X_test)\n",
    "Y_pred = keras.utils.to_categorical(Y_pred, num_classes=len(LANGUAGES_DICT))\n",
    "LABELS =  list(LANGUAGES_DICT.keys())"
   ]
  },
  {
   "cell_type": "code",
   "execution_count": 85,
   "metadata": {},
   "outputs": [
    {
     "data": {
      "image/png": "[encoded data removed]",
      "text/plain": [
       "<Figure size 720x504 with 2 Axes>"
      ]
     },
     "metadata": {},
     "output_type": "display_data"
    }
   ],
   "source": [
    "\n",
    "# Plot confusion matrix \n",
    "from sklearn.metrics import confusion_matrix\n",
    "from support import print_confusion_matrix\n",
    "\n",
    "cnf_matrix = confusion_matrix(np.argmax(Y_pred,axis=1), np.argmax(Y_test,axis=1))\n",
    "_ = print_confusion_matrix(cnf_matrix, LABELS)"
   ]
  },
  {
   "cell_type": "code",
   "execution_count": 87,
   "metadata": {},
   "outputs": [
    {
     "data": {
      "application/vnd.jupyter.widget-view+json": {
       "model_id": "6eed5b3877a84d86942966dd96c4e9a0",
       "version_major": 2,
       "version_minor": 0
      },
      "text/plain": [
       "interactive(children=(Textarea(value='', description='TEXT', placeholder='ازيك عامل ايه انا سألت عنك كتير اوي'…"
      ]
     },
     "metadata": {},
     "output_type": "display_data"
    }
   ],
   "source": [
    "from ipywidgets import interact_manual\n",
    "from ipywidgets import widgets\n",
    "from support import clean_text\n",
    "\n",
    "\n",
    "def get_prediction(TEXT):\n",
    "    if len(TEXT) < MAX_LEN:\n",
    "        print(\"Text has to be at least {} chars long, but it is {}/{}\".format(MAX_LEN, len(TEXT), MAX_LEN))\n",
    "        return(-1)\n",
    "    # Data cleaning\n",
    "    print(\" it is {}/{}\".format(len(TEXT), MAX_LEN))\n",
    "    cleaned_text = clean_text(TEXT)\n",
    "    \n",
    "    # Get the MAX_LEN char\n",
    "    input_row = get_input_row(cleaned_text, 0, MAX_LEN, alphabet)\n",
    "    \n",
    "    # Data preprocessing (Standardization)\n",
    "    test_array = standard_scaler.transform([input_row])\n",
    "    \n",
    "    raw_score = model.predict(test_array)\n",
    "    pred_idx= np.argmax(raw_score, axis=1)[0]\n",
    "    score = raw_score[0][pred_idx]*100\n",
    "    \n",
    "    # Prediction\n",
    "    prediction = LABELS[model.predict_classes(test_array)[0]]\n",
    "    print('TEXT:', TEXT, '\\nPREDICTION:', prediction.upper(), '\\nSCORE:', score)\n",
    "\n",
    "interact_manual(get_prediction, TEXT=widgets.Textarea(placeholder='ازيك عامل ايه انا سألت عنك كتير اوي'));"
   ]
  },
  {
   "cell_type": "code",
   "execution_count": null,
   "metadata": {},
   "outputs": [],
   "source": []
  }
 ],
 "metadata": {
  "kernelspec": {
   "display_name": "Python 3",
   "language": "python",
   "name": "python3"
  },
  "language_info": {
   "codemirror_mode": {
    "name": "ipython",
    "version": 3
   },
   "file_extension": ".py",
   "mimetype": "text/x-python",
   "name": "python",
   "nbconvert_exporter": "python",
   "pygments_lexer": "ipython3",
   "version": "3.6.5"
  }
 },
 "nbformat": 4,
 "nbformat_minor": 2
}
