{
 "cells": [
  {
   "cell_type": "code",
   "execution_count": 54,
   "metadata": {},
   "outputs": [],
   "source": [
    "\n",
    "from keras.preprocessing.text import Tokenizer\n",
    "from keras.preprocessing.sequence import pad_sequences\n",
    "from keras.utils import to_categorical\n",
    "from keras.models import Sequential\n",
    "from keras.layers import Dense, Embedding,GRU,LSTM,Bidirectional,Dropout,Conv1D,MaxPooling1D\n",
    "import matplotlib.pyplot as plt\n",
    "from sklearn.ensemble import VotingClassifier\n",
    "from sklearn import model_selection\n",
    "from sklearn.metrics import accuracy_score\n",
    "from keras.wrappers.scikit_learn import KerasClassifier\n",
    "from keras.callbacks import EarlyStopping\n",
    "from sklearn.model_selection import StratifiedKFold\n",
    "import numpy as np\n",
    "from sklearn import metrics\n",
    "import os\n",
    "import seaborn as sns\n",
    "from keras import regularizers"
   ]
  },
  {
   "cell_type": "code",
   "execution_count": 2,
   "metadata": {},
   "outputs": [],
   "source": [
    "target_class = ['BEI', 'CAI', 'DOH', 'MSA', 'RAB', 'TUN']\n",
    "max_features = 10000\n",
    "max_len = 100\n",
    "batch_size = 32\n",
    "epochs = 10\n",
    "train_file = '../../MADAR-SHARED-TASK-third-release-8Mar2019/MADAR-Shared-Task-Subtask-1/Dialect6/Training/post_clean'\n",
    "dev_file = '../../MADAR-SHARED-TASK-third-release-8Mar2019/MADAR-Shared-Task-Subtask-1/Dialect6/Developing/post_clean'\n"
   ]
  },
  {
   "cell_type": "code",
   "execution_count": 3,
   "metadata": {},
   "outputs": [],
   "source": [
    "def prepare_data(data_dir):\n",
    "    labels = []\n",
    "    texts = []\n",
    "    \n",
    "    for label_type in target_class:#categories\n",
    "        dir_name = os.path.join(data_dir, label_type)\n",
    "        for fname in os.listdir(dir_name):\n",
    "            if fname[-4:] != 'tore':\n",
    "                f = open(os.path.join(dir_name, fname))\n",
    "                texts.append(f.read())# add the sentences to text array\n",
    "                f.close()\n",
    "                if label_type == 'BEI':# which value to assign to every class\n",
    "                    labels.append(0)\n",
    "                elif label_type == 'CAI':# which value to assign to every class\n",
    "                    labels.append(1)\n",
    "                elif label_type == 'DOH':# which value to assign to every class\n",
    "                    labels.append(2)\n",
    "                elif label_type == 'MSA':# which value to assign to every class\n",
    "                    labels.append(3)\n",
    "                elif label_type == 'RAB':# which value to assign to every class\n",
    "                    labels.append(4)\n",
    "                elif label_type == 'TUN':# which value to assign to every class\n",
    "                    labels.append(5)\n",
    "    return texts, labels"
   ]
  },
  {
   "cell_type": "code",
   "execution_count": 4,
   "metadata": {},
   "outputs": [],
   "source": [
    "def load_data(data_dir, maxlen,max_words, test= False ):\n",
    "#train_directory\n",
    "    \n",
    "    labels = []\n",
    "    texts = []\n",
    "    #i = 0\n",
    "    texts, labels = prepare_data(data_dir)\n",
    "                \n",
    "\n",
    "    tokenizer = Tokenizer(num_words=max_words,split=' ')\n",
    "    tokenizer.fit_on_texts(texts)\n",
    "    sequences = tokenizer.texts_to_sequences(texts)\n",
    "\n",
    "    word_index = tokenizer.word_index\n",
    "    print('Found %s unique tokens.' % len(word_index))\n",
    "    data = pad_sequences(sequences, maxlen=maxlen)\n",
    "    labels = np.asarray(labels)\n",
    "    print('Shape of data tensor:', data.shape)\n",
    "    print('Shape of label tensor:', labels.shape)\n",
    "    # Split the data into a training set and a validation set\n",
    "    # But first, shuffle the data, since we started from data\n",
    "    # where sample are ordered (all negative first, then all positive).\n",
    "    indices = np.arange(data.shape[0])\n",
    "    np.random.shuffle(indices)\n",
    "    data = data[indices]\n",
    "    labels = labels[indices]\n",
    "    x_data = data[:]\n",
    "    if test:\n",
    "        y_data = np.asarray(labels) \n",
    "    else:\n",
    "        y_data = labels[:]\n",
    "    y_data = to_categorical(y_data, num_classes=len(target_class))\n",
    "\n",
    "    return x_data, y_data\n",
    "    \n",
    "    \n",
    "# if _test: y_test = np.asarray(labels)\n",
    "    \n",
    "\n"
   ]
  },
  {
   "cell_type": "code",
   "execution_count": 5,
   "metadata": {},
   "outputs": [
    {
     "name": "stdout",
     "output_type": "stream",
     "text": [
      "Found 39658 unique tokens.\n",
      "Shape of data tensor: (54000, 100)\n",
      "Shape of label tensor: (54000,)\n",
      "Found 9638 unique tokens.\n",
      "Shape of data tensor: (6000, 100)\n",
      "Shape of label tensor: (6000,)\n",
      "input_train shape: (54000, 100)\n",
      "input_test shape: (6000, 100)\n"
     ]
    }
   ],
   "source": [
    "input_train, y_train = load_data(train_file,max_len,max_features)\n",
    "input_test, y_test = load_data(dev_file,max_len,max_features,test= True)\n",
    "print('input_train shape:', input_train.shape)\n",
    "print('input_test shape:', input_test.shape)\n"
   ]
  },
  {
   "cell_type": "markdown",
   "metadata": {},
   "source": [
    "# LSTM model "
   ]
  },
  {
   "cell_type": "code",
   "execution_count": 70,
   "metadata": {},
   "outputs": [],
   "source": [
    "def build_keras_model_LSTM(max_len, max_features):\n",
    "    model = Sequential()\n",
    "    model.add(Embedding(max_features, 300, input_length= max_len))\n",
    "    #model.add(LSTM(32)) #GRU\n",
    "    #bidirectional \n",
    "    model.add(Bidirectional(LSTM(32)))\n",
    "    #model.add(layers.Bidirectional(\n",
    "    #    layers.GRU(32), input_shape=(None, float_data.shape[-1])))\n",
    "\n",
    "    model.add(Dropout(0.25))\n",
    "    model.add(Dense(len(target_class), activation='sigmoid',kernel_regularizer=regularizers.l2(0.01),\n",
    "            activity_regularizer=regularizers.l1(0.01)))\n",
    "    model.summary()\n",
    "    #model.compile(optimizer='rmsprop', loss='binary_crossentropy', metrics=['acc'])\n",
    "    model.compile(optimizer='adam',\n",
    "                  loss='categorical_crossentropy',\n",
    "                  metrics=['acc'])\n",
    "\n",
    "    \n",
    "    return model"
   ]
  },
  {
   "cell_type": "code",
   "execution_count": 71,
   "metadata": {},
   "outputs": [
    {
     "name": "stdout",
     "output_type": "stream",
     "text": [
      "_________________________________________________________________\n",
      "Layer (type)                 Output Shape              Param #   \n",
      "=================================================================\n",
      "embedding_16 (Embedding)     (None, 100, 300)          3000000   \n",
      "_________________________________________________________________\n",
      "bidirectional_7 (Bidirection (None, 64)                85248     \n",
      "_________________________________________________________________\n",
      "dropout_11 (Dropout)         (None, 64)                0         \n",
      "_________________________________________________________________\n",
      "dense_12 (Dense)             (None, 6)                 390       \n",
      "=================================================================\n",
      "Total params: 3,085,638\n",
      "Trainable params: 3,085,638\n",
      "Non-trainable params: 0\n",
      "_________________________________________________________________\n",
      "Train on 43200 samples, validate on 10800 samples\n",
      "Epoch 1/100\n",
      "43200/43200 [==============================] - 59566s 1s/step - loss: 0.8896 - acc: 0.7484 - val_loss: 0.5520 - val_acc: 0.8693\n",
      "Epoch 2/100\n",
      "43200/43200 [==============================] - 978s 23ms/step - loss: 0.4692 - acc: 0.9031 - val_loss: 0.5296 - val_acc: 0.8700\n",
      "Epoch 3/100\n",
      "43200/43200 [==============================] - 404s 9ms/step - loss: 0.3993 - acc: 0.9252 - val_loss: 0.5272 - val_acc: 0.8707\n",
      "Epoch 4/100\n",
      "43200/43200 [==============================] - 318s 7ms/step - loss: 0.3657 - acc: 0.9340 - val_loss: 0.5369 - val_acc: 0.8665\n",
      "Epoch 5/100\n",
      "43200/43200 [==============================] - 375s 9ms/step - loss: 0.3437 - acc: 0.9391 - val_loss: 0.5371 - val_acc: 0.8668\n"
     ]
    }
   ],
   "source": [
    "model_LSTM = build_keras_model_LSTM(max_len, max_features)\n",
    "early_stopping = EarlyStopping(monitor='val_loss', patience=2)\n",
    "\n",
    "history_LSTM = model_LSTM.fit(input_train, y_train,\n",
    "                    epochs=100,\n",
    "                    batch_size=batch_size,\n",
    "                    #validation_data=(x_val, y_val),\n",
    "                    callbacks=[early_stopping],\n",
    "                    validation_split=0.2)\n",
    "\n",
    "model = model_LSTM\n",
    "history = history_LSTM"
   ]
  },
  {
   "cell_type": "markdown",
   "metadata": {},
   "source": [
    "# GRU model"
   ]
  },
  {
   "cell_type": "code",
   "execution_count": 65,
   "metadata": {},
   "outputs": [],
   "source": [
    "def build_keras_model_GRU(max_len, max_features):\n",
    "    model = Sequential()\n",
    "    model.add(Embedding(max_features, 64, input_length= max_len))\n",
    "    model.add(Dropout(0.25))\n",
    "    model.add(GRU(32)) #GRU\n",
    "    model.add(Dense(len(target_class), activation='sigmoid',kernel_regularizer=regularizers.l2(0.01),\n",
    "            activity_regularizer=regularizers.l1(0.01)))\n",
    "    model.summary()\n",
    "    model.compile(optimizer='adam',\n",
    "                  loss='categorical_crossentropy',\n",
    "                  metrics=['acc'])\n",
    "\n",
    "    \n",
    "    return model"
   ]
  },
  {
   "cell_type": "code",
   "execution_count": 66,
   "metadata": {},
   "outputs": [
    {
     "name": "stdout",
     "output_type": "stream",
     "text": [
      "_________________________________________________________________\n",
      "Layer (type)                 Output Shape              Param #   \n",
      "=================================================================\n",
      "embedding_15 (Embedding)     (None, 100, 64)           640000    \n",
      "_________________________________________________________________\n",
      "dropout_10 (Dropout)         (None, 100, 64)           0         \n",
      "_________________________________________________________________\n",
      "gru_3 (GRU)                  (None, 32)                9312      \n",
      "_________________________________________________________________\n",
      "dense_11 (Dense)             (None, 6)                 198       \n",
      "=================================================================\n",
      "Total params: 649,510\n",
      "Trainable params: 649,510\n",
      "Non-trainable params: 0\n",
      "_________________________________________________________________\n",
      "Train on 43200 samples, validate on 10800 samples\n",
      "Epoch 1/10\n",
      "43200/43200 [==============================] - 133s 3ms/step - loss: 1.3128 - acc: 0.5974 - val_loss: 0.7395 - val_acc: 0.8455\n",
      "Epoch 2/10\n",
      "43200/43200 [==============================] - 134s 3ms/step - loss: 0.6256 - acc: 0.8788 - val_loss: 0.7360 - val_acc: 0.8308\n",
      "Epoch 3/10\n",
      "43200/43200 [==============================] - 139s 3ms/step - loss: 0.5166 - acc: 0.9130 - val_loss: 0.6381 - val_acc: 0.8640\n",
      "Epoch 4/10\n",
      "43200/43200 [==============================] - 129s 3ms/step - loss: 0.4661 - acc: 0.9262 - val_loss: 0.6178 - val_acc: 0.8652\n",
      "Epoch 5/10\n",
      "43200/43200 [==============================] - 128s 3ms/step - loss: 0.4338 - acc: 0.9310 - val_loss: 0.7032 - val_acc: 0.8334\n",
      "Epoch 6/10\n",
      "43200/43200 [==============================] - 126s 3ms/step - loss: 0.4100 - acc: 0.9356 - val_loss: 0.6825 - val_acc: 0.8380\n",
      "Epoch 7/10\n",
      "43200/43200 [==============================] - 128s 3ms/step - loss: 0.3892 - acc: 0.9388 - val_loss: 0.6380 - val_acc: 0.8556\n",
      "Epoch 8/10\n",
      "43200/43200 [==============================] - 127s 3ms/step - loss: 0.3709 - acc: 0.9435 - val_loss: 0.6578 - val_acc: 0.8475\n",
      "Epoch 9/10\n",
      "43200/43200 [==============================] - 145s 3ms/step - loss: 0.3557 - acc: 0.9454 - val_loss: 0.6555 - val_acc: 0.8440\n",
      "Epoch 10/10\n",
      "43200/43200 [==============================] - 136s 3ms/step - loss: 0.3441 - acc: 0.9461 - val_loss: 0.5798 - val_acc: 0.8667\n"
     ]
    }
   ],
   "source": [
    "model_GRU = build_keras_model_GRU(max_len, max_features)\n",
    "history_GRU = model_GRU.fit(input_train, y_train,\n",
    "                    epochs=epochs,\n",
    "                    batch_size=batch_size,\n",
    "                    #validation_data=(x_val, y_val),callbacks=[early_stopping])\n",
    "                    validation_split=0.2)\n",
    "history = history_GRU\n",
    "model = model_GRU\n"
   ]
  },
  {
   "cell_type": "markdown",
   "metadata": {},
   "source": [
    "# Combined layers"
   ]
  },
  {
   "cell_type": "code",
   "execution_count": 45,
   "metadata": {},
   "outputs": [],
   "source": [
    "def build_keras_model_combined(max_len,max_features):\n",
    "    embedding_size = 64#300\n",
    "\n",
    "    # Convolution\n",
    "    kernel_size = 5\n",
    "    filters = 64\n",
    "    pool_size = 4\n",
    "\n",
    "    # LSTM\n",
    "    lstm_output_size = 70\n",
    "\n",
    "    # Training\n",
    "    #batch_size = 32\n",
    "    epochs = 10\n",
    "\n",
    "    model = Sequential()\n",
    "    model.add(Embedding(max_features, embedding_size, input_length=max_len))\n",
    "    model.add(Dropout(0.25))\n",
    "    model.add(Conv1D(filters, kernel_size, padding='valid', activation='relu', strides=1))\n",
    "    model.add(MaxPooling1D(pool_size=pool_size))\n",
    "    model.add(LSTM(lstm_output_size))\n",
    "    model.add(Dropout(0.25))\n",
    "    model.add(Dense(len(target_class),activation='softmax',kernel_regularizer=regularizers.l1(0.01),\n",
    "            activity_regularizer=regularizers.l1(0.01)))\n",
    "    model.compile(loss = 'categorical_crossentropy', optimizer='adam',metrics = ['accuracy'])\n",
    "    print(model.summary())\n",
    "    \n",
    "    return model\n"
   ]
  },
  {
   "cell_type": "code",
   "execution_count": 46,
   "metadata": {},
   "outputs": [
    {
     "name": "stdout",
     "output_type": "stream",
     "text": [
      "_________________________________________________________________\n",
      "Layer (type)                 Output Shape              Param #   \n",
      "=================================================================\n",
      "embedding_9 (Embedding)      (None, 100, 64)           640000    \n",
      "_________________________________________________________________\n",
      "dropout_7 (Dropout)          (None, 100, 64)           0         \n",
      "_________________________________________________________________\n",
      "conv1d_2 (Conv1D)            (None, 96, 64)            20544     \n",
      "_________________________________________________________________\n",
      "max_pooling1d_2 (MaxPooling1 (None, 24, 64)            0         \n",
      "_________________________________________________________________\n",
      "lstm_5 (LSTM)                (None, 70)                37800     \n",
      "_________________________________________________________________\n",
      "dropout_8 (Dropout)          (None, 70)                0         \n",
      "_________________________________________________________________\n",
      "dense_6 (Dense)              (None, 6)                 426       \n",
      "=================================================================\n",
      "Total params: 698,770\n",
      "Trainable params: 698,770\n",
      "Non-trainable params: 0\n",
      "_________________________________________________________________\n",
      "None\n",
      "Train on 43200 samples, validate on 10800 samples\n",
      "Epoch 1/10\n",
      "43200/43200 [==============================] - 76s 2ms/step - loss: 0.9496 - acc: 0.7384 - val_loss: 0.6810 - val_acc: 0.8604\n",
      "Epoch 2/10\n",
      "43200/43200 [==============================] - 70s 2ms/step - loss: 0.6058 - acc: 0.8937 - val_loss: 0.6496 - val_acc: 0.8695\n",
      "Epoch 3/10\n",
      "43200/43200 [==============================] - 70s 2ms/step - loss: 0.5390 - acc: 0.9216 - val_loss: 0.6672 - val_acc: 0.8664\n",
      "Epoch 4/10\n",
      "43200/43200 [==============================] - 70s 2ms/step - loss: 0.5095 - acc: 0.9329 - val_loss: 0.6727 - val_acc: 0.8678\n",
      "Epoch 5/10\n",
      "43200/43200 [==============================] - 65s 2ms/step - loss: 0.4906 - acc: 0.9404 - val_loss: 0.6834 - val_acc: 0.8665\n",
      "Epoch 6/10\n",
      "43200/43200 [==============================] - 65s 2ms/step - loss: 0.4777 - acc: 0.9456 - val_loss: 0.6919 - val_acc: 0.8669\n",
      "Epoch 7/10\n",
      "43200/43200 [==============================] - 67s 2ms/step - loss: 0.4681 - acc: 0.9490 - val_loss: 0.7020 - val_acc: 0.8639\n",
      "Epoch 8/10\n",
      "43200/43200 [==============================] - 74s 2ms/step - loss: 0.4609 - acc: 0.9515 - val_loss: 0.7151 - val_acc: 0.8649\n",
      "Epoch 9/10\n",
      "43200/43200 [==============================] - 74s 2ms/step - loss: 0.4540 - acc: 0.9552 - val_loss: 0.7200 - val_acc: 0.8639\n",
      "Epoch 10/10\n",
      "43200/43200 [==============================] - 75s 2ms/step - loss: 0.4497 - acc: 0.9565 - val_loss: 0.7261 - val_acc: 0.8645\n"
     ]
    }
   ],
   "source": [
    "early_stopping = EarlyStopping(monitor='val_loss', patience=2)\n",
    "\n",
    "model_comb = build_keras_model_combined(max_len, max_features)\n",
    "history_comb = model_comb.fit(input_train, y_train,\n",
    "                    epochs=epochs,\n",
    "                    batch_size=batch_size,\n",
    "                    #validation_data=(x_val, y_val),\n",
    "                    callbacks=[early_stopping],\n",
    "                    validation_split=0.2)\n",
    "history = history_comb\n",
    "model = model_comb"
   ]
  },
  {
   "cell_type": "markdown",
   "metadata": {},
   "source": [
    "# Ensemble Learning"
   ]
  },
  {
   "cell_type": "raw",
   "metadata": {},
   "source": [
    "estimators = []\n",
    "estimators.append(('LSTM',model_LSTM))\n",
    "estimators.append(('GRU', model_GRU))\n",
    "kfold= 2\n",
    "\n",
    "models = []\n",
    "for i, model in enumerate(estimators):\n",
    "    print(type(estimators[i][1]))\n",
    "    #print(models[i])\n",
    "    models.append(KerasClassifier(build_fn=estimators[i][1], epochs=epochs, batch_size=batch_size, verbose=0))\n",
    "\n",
    "#ensemble = KerasClassifier(build_fn=build_keras_model_GRU, epochs=epochs, batch_size=batch_size, verbose=0)\n",
    "seed = 7\n",
    "ensemble = VotingClassifier(models)\n",
    "#kfold = StratifiedKFold(n_splits=10, shuffle=True, random_state=seed)\n",
    "results = model_selection.cross_val_score(ensemble, input_train, y_train, cv=kfold)\n",
    "print(results.mean())\n",
    "\n",
    "\n",
    "\n",
    "\"\"\"\n",
    "ensemble = VotingClassifier(estimators)\n",
    "results = model_selection.cross_val_score(ensemble, input_train, y_train, cv=kfold)\n",
    "print(results.mean())\n",
    "\"\"\"\n",
    "ensemble.fit(input_train, y_train,epochs= epochs, batch_size = batch_size)\n",
    "pred = ensemble.predict(input_test)\n",
    "score = metrics.accuracy_score(y_test, pred)\n",
    "print(\"accuracy:   %0.3f\" % score)\n",
    "\n",
    "print(\"classification report:\")\n",
    "print(metrics.classification_report(y_test, pred,target_names=target_class))\n",
    "\n",
    "print(\"confusion matrix:\")\n",
    "print(metrics.confusion_matrix(y_test, pred))\n"
   ]
  },
  {
   "cell_type": "code",
   "execution_count": 67,
   "metadata": {},
   "outputs": [],
   "source": [
    "def plot_show(history):\n",
    "    acc = history.history['acc']\n",
    "    val_acc = history.history['val_acc']\n",
    "    loss = history.history['loss']\n",
    "    val_loss = history.history['val_loss']\n",
    "    epochs = range(1, len(acc) + 1)\n",
    "    plt.plot(epochs, acc, 'bo', label='Training acc')\n",
    "    plt.plot(epochs, val_acc, 'b', label='Validation acc')\n",
    "    plt.title('Training and validation accuracy')\n",
    "    plt.legend()\n",
    "    plt.figure()\n",
    "    plt.plot(epochs, loss, 'bo', label='Training loss')\n",
    "    plt.plot(epochs, val_loss, 'b', label='Validation loss')\n",
    "    plt.title('Training and validation loss')\n",
    "    plt.legend()\n",
    "    plt.show()"
   ]
  },
  {
   "cell_type": "code",
   "execution_count": 68,
   "metadata": {},
   "outputs": [
    {
     "data": {
      "image/png": "[encoded data removed]",
      "text/plain": [
       "<Figure size 432x288 with 1 Axes>"
      ]
     },
     "metadata": {},
     "output_type": "display_data"
    },
    {
     "data": {
      "image/png": "[encoded data removed]",
      "text/plain": [
       "<Figure size 432x288 with 1 Axes>"
      ]
     },
     "metadata": {},
     "output_type": "display_data"
    },
    {
     "name": "stdout",
     "output_type": "stream",
     "text": [
      "              precision    recall  f1-score   support\n",
      "\n",
      "         BEI       0.14      0.17      0.15      1000\n",
      "         CAI       0.16      0.15      0.16      1000\n",
      "         DOH       0.22      0.16      0.19      1000\n",
      "         MSA       0.18      0.17      0.18      1000\n",
      "         RAB       0.15      0.17      0.16      1000\n",
      "         TUN       0.17      0.19      0.18      1000\n",
      "\n",
      "   micro avg       0.17      0.17      0.17      6000\n",
      "   macro avg       0.17      0.17      0.17      6000\n",
      "weighted avg       0.17      0.17      0.17      6000\n",
      "\n",
      "Accuracy: 16.88%\n"
     ]
    }
   ],
   "source": [
    "\n",
    "plot_show(history)\n",
    "\n",
    "scores= model.evaluate(input_test, y_test,verbose=0)\n",
    "predicte = model.predict(input_test, verbose = 2, batch_size = batch_size)\n",
    "print(metrics.classification_report(y_test.argmax(axis=1), np.argmax(predicte[:,:],axis=1),target_names = target_class))\n",
    "\n",
    "print(\"Accuracy: %.2f%%\" % (scores[1]*100))\n",
    "\n"
   ]
  },
  {
   "cell_type": "code",
   "execution_count": 49,
   "metadata": {},
   "outputs": [],
   "source": [
    "def plot_confusion_matrix(score, cm, title='Confusion matrix', cmap=plt.cm.Greys):\n",
    "    plt.imshow(cm, interpolation='nearest', cmap=cmap)\n",
    "    plt.title(title)\n",
    "    plt.colorbar()\n",
    "    tick_marks = np.arange(len(set(score)))\n",
    "    plt.xticks(tick_marks, score, rotation=45)\n",
    "    plt.yticks(tick_marks, score)\n",
    "    plt.tight_layout()\n",
    "    plt.ylabel('True label')\n",
    "    plt.xlabel('Predicted label')\n",
    "    return plt"
   ]
  },
  {
   "cell_type": "code",
   "execution_count": 50,
   "metadata": {},
   "outputs": [
    {
     "data": {
      "text/plain": [
       "<function matplotlib.pyplot.show(*args, **kw)>"
      ]
     },
     "execution_count": 50,
     "metadata": {},
     "output_type": "execute_result"
    },
    {
     "data": {
      "image/png": "[encoded data removed]",
      "text/plain": [
       "<Figure size 432x288 with 2 Axes>"
      ]
     },
     "metadata": {},
     "output_type": "display_data"
    },
    {
     "data": {
      "image/png": "[encoded data removed]",
      "text/plain": [
       "<Figure size 432x288 with 2 Axes>"
      ]
     },
     "metadata": {},
     "output_type": "display_data"
    }
   ],
   "source": [
    "cm = metrics.confusion_matrix(y_test[:,1], np.round(predicte[:,1]))\n",
    "np.set_printoptions(precision=2)\n",
    "plt.figure()\n",
    "plot_confusion_matrix(scores,cm).show    \n",
    "\n",
    "cm_normalized = cm.astype('float') / cm.sum(axis=1)[:, np.newaxis]\n",
    "plt.figure()\n",
    "plot_confusion_matrix(scores,cm_normalized, title='Normalized confusion matrix').show\n",
    "\n",
    "#plt.show()\n"
   ]
  },
  {
   "cell_type": "code",
   "execution_count": 51,
   "metadata": {},
   "outputs": [
    {
     "name": "stdout",
     "output_type": "stream",
     "text": [
      "0.17383333333333334\n",
      "[[125 169 134 233 157 182]\n",
      " [236 172 131 117 207 137]\n",
      " [133 205 172 131 153 206]\n",
      " [121 120 129 226 255 149]\n",
      " [166 122 114 210 178 210]\n",
      " [164 220 108 137 201 170]]\n",
      "Accuracy: 17.38%\n"
     ]
    },
    {
     "data": {
      "image/png": "[encoded data removed]",
      "text/plain": [
       "<Figure size 720x720 with 2 Axes>"
      ]
     },
     "metadata": {},
     "output_type": "display_data"
    }
   ],
   "source": [
    "             \n",
    "\n",
    "predicted = model.predict(input_test)\n",
    "predicted = np.argmax(predicted, axis=1)\n",
    "accuracy_score(y_test.argmax(axis=1), predicted)\n",
    "print(accuracy_score(y_test.argmax(axis=1), predicted))\n",
    "\n",
    "matrix = metrics.confusion_matrix(y_test.argmax(axis=1), predicted)\n",
    "print(matrix)\n",
    "\n",
    "\n",
    "scores= model.evaluate(input_test, y_test,verbose=0)\n",
    "print(\"Accuracy: %.2f%%\" % (scores[1]*100))\n",
    "\n",
    "\n",
    "conf_mat = metrics.confusion_matrix(y_test.argmax(axis=1), predicted)\n",
    "fig, ax = plt.subplots(figsize=(10,10))\n",
    "sns.heatmap(conf_mat, annot=True, fmt='d',\n",
    "            xticklabels=target_class, yticklabels=target_class)\n",
    "plt.ylabel('Actual')\n",
    "plt.xlabel('Predicted')\n",
    "plt.show()"
   ]
  },
  {
   "cell_type": "code",
   "execution_count": null,
   "metadata": {},
   "outputs": [],
   "source": []
  }
 ],
 "metadata": {
  "kernelspec": {
   "display_name": "Python 3",
   "language": "python",
   "name": "python3"
  },
  "language_info": {
   "codemirror_mode": {
    "name": "ipython",
    "version": 3
   },
   "file_extension": ".py",
   "mimetype": "text/x-python",
   "name": "python",
   "nbconvert_exporter": "python",
   "pygments_lexer": "ipython3",
   "version": "3.6.5"
  }
 },
 "nbformat": 4,
 "nbformat_minor": 2
}
